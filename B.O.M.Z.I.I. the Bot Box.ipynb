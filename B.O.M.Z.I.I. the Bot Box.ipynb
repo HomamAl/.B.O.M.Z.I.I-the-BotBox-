{
 "cells": [
  {
   "cell_type": "code",
   "execution_count": 1,
   "metadata": {},
   "outputs": [],
   "source": [
    "#import the library \n",
    "from nltk.chat.util import Chat, reflections\n",
    "import json"
   ]
  },
  {
   "cell_type": "code",
   "execution_count": 2,
   "metadata": {},
   "outputs": [],
   "source": [
    "pairs = [\n",
    "    ['my name is(.*)',['hi %1']],\n",
    "    ['(hi|hello|hey|holla|hola|salam)', ['hey there', 'hi there', 'hellooooooo']],\n",
    "    ['(.*) in (.*) is fun', ['%1 in %2 is indeed fun']],\n",
    "    ['(.*)(location|city) ?', 'Tokyo, Japan'],\n",
    "    ['(.*)created you ?', ['HomamAl did using NLTK']],\n",
    "    ['how is the weather in (.*)', ['the weather in %1 is amazing like always']],\n",
    "    ['is (.*) fun', ['%1 is really fun']],\n",
    "    ['(.*)help(.*)',['I can help you']],\n",
    "    ['(.*)your name ?',['my name is .B.O.M.Z.I.I']],\n",
    "    ['(.*)can we be friends ?(.*)', ['Of course!! I will be your only friend that will never leave you ;)']],\n",
    "    ['(.*)', ['I can only answer one of these questions: '\n",
    "              '\\n' '1. Ask about my name?' \n",
    "              '\\n' '2. I can greet you if you greet me :)' \n",
    "              '\\n' '3. Ask me if something is fun'\n",
    "              '\\n' '4. Ask who created me'\n",
    "              '\\n' '5. Ask me how is the weather in your city'\n",
    "              '\\n' '6. Ask me for help'\n",
    "              '\\n' 'Have Fun and dont forget that i will be your AI friend <3']]\n",
    "    \n",
    "]"
   ]
  },
  {
   "cell_type": "code",
   "execution_count": 3,
   "metadata": {},
   "outputs": [
    {
     "data": {
      "text/plain": [
       "{'i am': 'you are',\n",
       " 'i was': 'you were',\n",
       " 'i': 'you',\n",
       " \"i'm\": 'you are',\n",
       " \"i'd\": 'you would',\n",
       " \"i've\": 'you have',\n",
       " \"i'll\": 'you will',\n",
       " 'my': 'your',\n",
       " 'you are': 'I am',\n",
       " 'you were': 'I was',\n",
       " \"you've\": 'I have',\n",
       " \"you'll\": 'I will',\n",
       " 'your': 'my',\n",
       " 'yours': 'mine',\n",
       " 'you': 'me',\n",
       " 'me': 'you'}"
      ]
     },
     "execution_count": 3,
     "metadata": {},
     "output_type": "execute_result"
    }
   ],
   "source": [
    "reflections"
   ]
  },
  {
   "cell_type": "code",
   "execution_count": 4,
   "metadata": {},
   "outputs": [],
   "source": [
    "my_dummy_reflections = {\n",
    "    'go' : 'gone',\n",
    "    'hello' : 'hey there'\n",
    "}"
   ]
  },
  {
   "cell_type": "code",
   "execution_count": null,
   "metadata": {},
   "outputs": [
    {
     "name": "stdout",
     "output_type": "stream",
     "text": [
      ">Hey\n",
      "hellooooooo\n",
      ">Hello\n",
      "hey there\n",
      ">ABCD\n",
      "I can only answer one of these questions: \n",
      "1. Ask about my name?\n",
      "2. I can greet you if you greet me :)\n",
      "3. Ask me if something is fun\n",
      "4. Ask who created me\n",
      "5. Ask me how is the weather in your city\n",
      "6. Ask me for help\n",
      "Have Fun and dont forget that i will be your AI friend <3\n",
      ">Whats your name\n",
      "my name is .B.O.M.Z.I.I\n",
      ">Who created you\n",
      "HomamAl did using NLTK\n",
      ">Is eating fun\n",
      "eating is really fun\n",
      ">I need help \n",
      "I can help you\n",
      ">How is the weather in London \n",
      "the weather in london  is amazing like always\n"
     ]
    }
   ],
   "source": [
    "chat = Chat( pairs, my_dummy_reflections)\n",
    "chat.converse()"
   ]
  },
  {
   "cell_type": "code",
   "execution_count": null,
   "metadata": {},
   "outputs": [],
   "source": []
  }
 ],
 "metadata": {
  "kernelspec": {
   "display_name": "Python 3",
   "language": "python",
   "name": "python3"
  },
  "language_info": {
   "codemirror_mode": {
    "name": "ipython",
    "version": 3
   },
   "file_extension": ".py",
   "mimetype": "text/x-python",
   "name": "python",
   "nbconvert_exporter": "python",
   "pygments_lexer": "ipython3",
   "version": "3.7.6"
  }
 },
 "nbformat": 4,
 "nbformat_minor": 4
}
